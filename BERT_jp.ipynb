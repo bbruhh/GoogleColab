{
  "nbformat": 4,
  "nbformat_minor": 0,
  "metadata": {
    "colab": {
      "name": "BERT FineTuning with Cloud TPU: Sentence and Sentence-Pair Classification Tasks",
      "version": "0.3.2",
      "provenance": [],
      "collapsed_sections": [],
      "toc_visible": true,
      "include_colab_link": true
    },
    "kernelspec": {
      "name": "python3",
      "display_name": "Python 3"
    },
    "accelerator": "TPU"
  },
  "cells": [
    {
      "cell_type": "markdown",
      "metadata": {
        "id": "view-in-github",
        "colab_type": "text"
      },
      "source": [
        "<a href=\"https://colab.research.google.com/github/june1st/GoogleColab/blob/master/BERT_jp.ipynb\" target=\"_parent\"><img src=\"https://colab.research.google.com/assets/colab-badge.svg\" alt=\"Open In Colab\"/></a>"
      ]
    },
    {
      "metadata": {
        "id": "rkTLZ3I4_7c_",
        "colab_type": "text"
      },
      "cell_type": "markdown",
      "source": [
        "# BERTのテスト\n",
        "\n",
        "<table class=\"tfo-notebook-buttons\" align=\"left\" >\n",
        " <td>\n",
        "<img src=\"https://www.tensorflow.org/images/colab_logo_32px.png\" />\n",
        "  <td>\n",
        "<img src=\"https://www.tensorflow.org/images/GitHub-Mark-32px.png\" />\n",
        "  </td>\n",
        "</table>\n",
        "※下記の記事を参考に実行\n",
        "https://qiita.com/Kosuke-Szk/items/4b74b5cce84f423b7125\n"
      ]
    },
    {
      "metadata": {
        "id": "co8HlrpYc4yl",
        "colab_type": "code",
        "colab": {
          "base_uri": "https://localhost:8080/",
          "height": 204
        },
        "outputId": "98888997-e73f-4d0c-bf2a-ec9cac5610f5"
      },
      "cell_type": "code",
      "source": [
        "! wget https://dumps.wikimedia.org/jawiki/latest/jawiki-latest-pages-articles.xml.bz2"
      ],
      "execution_count": 3,
      "outputs": [
        {
          "output_type": "stream",
          "text": [
            "--2018-11-13 09:13:36--  https://dumps.wikimedia.org/jawiki/latest/jawiki-latest-pages-articles.xml.bz2\n",
            "Resolving dumps.wikimedia.org (dumps.wikimedia.org)... 208.80.154.7, 2620:0:861:1:208:80:154:7\n",
            "Connecting to dumps.wikimedia.org (dumps.wikimedia.org)|208.80.154.7|:443... connected.\n",
            "HTTP request sent, awaiting response... 200 OK\n",
            "Length: 2766642154 (2.6G) [application/octet-stream]\n",
            "Saving to: ‘jawiki-latest-pages-articles.xml.bz2’\n",
            "\n",
            "jawiki-latest-pages 100%[===================>]   2.58G  1.97MB/s    in 22m 15s \n",
            "\n",
            "2018-11-13 09:35:50 (1.98 MB/s) - ‘jawiki-latest-pages-articles.xml.bz2’ saved [2766642154/2766642154]\n",
            "\n"
          ],
          "name": "stdout"
        }
      ]
    },
    {
      "metadata": {
        "id": "ZkasotoAJJkv",
        "colab_type": "code",
        "colab": {}
      },
      "cell_type": "code",
      "source": [
        "cat tmp.txt"
      ],
      "execution_count": 0,
      "outputs": []
    },
    {
      "metadata": {
        "id": "b91P6krfeFqC",
        "colab_type": "code",
        "colab": {
          "base_uri": "https://localhost:8080/",
          "height": 102
        },
        "outputId": "fa51bfdb-2fd3-4dc4-c040-86184d0ed43a"
      },
      "cell_type": "code",
      "source": [
        "! git clone https://github.com/attardi/wikiextractor.git"
      ],
      "execution_count": 4,
      "outputs": [
        {
          "output_type": "stream",
          "text": [
            "Cloning into 'wikiextractor'...\n",
            "remote: Enumerating objects: 523, done.\u001b[K\n",
            "remote: Total 523 (delta 0), reused 0 (delta 0), pack-reused 523\u001b[K\n",
            "Receiving objects: 100% (523/523), 454.22 KiB | 4.68 MiB/s, done.\n",
            "Resolving deltas: 100% (297/297), done.\n"
          ],
          "name": "stdout"
        }
      ]
    },
    {
      "metadata": {
        "id": "8D4LBTLeebUV",
        "colab_type": "code",
        "colab": {}
      },
      "cell_type": "code",
      "source": [
        "! yes | python wikiextractor/WikiExtractor.py -o extracted jawiki-latest-pages-articles.xml.bz2 &>/dev/null "
      ],
      "execution_count": 0,
      "outputs": []
    },
    {
      "metadata": {
        "id": "AkyiTqePedfT",
        "colab_type": "code",
        "colab": {}
      },
      "cell_type": "code",
      "source": [
        "import glob\n",
        "from bs4 import BeautifulSoup\n",
        "\n",
        "with open('./tmp.txt','w') as f:\n",
        "    for directory in glob.glob('./extracted/*'):\n",
        "        for name in glob.glob(directory+'/*'):\n",
        "            with open(name, 'r') as r:\n",
        "                for line in r:\n",
        "                    # titleを削除する\n",
        "                    if '<doc ' in line:\n",
        "                        next(r)\n",
        "                        next(r)\n",
        "                    elif '</doc>' in line:\n",
        "                        f.write('\\n')\n",
        "                        continue\n",
        "                    else:\n",
        "                        # 空白・改行削除、大文字を小文字に変換\n",
        "                        text = BeautifulSoup(line.strip()).text.lower()\n",
        "                        f.write(text)"
      ],
      "execution_count": 0,
      "outputs": []
    },
    {
      "metadata": {
        "id": "VhUXqD9rJggt",
        "colab_type": "code",
        "colab": {}
      },
      "cell_type": "code",
      "source": [
        "!apt install aptitude\n",
        "!aptitude install mecab libmecab-dev mecab-ipadic-utf8 git make curl xz-utils file -y\n",
        "!pip install mecab-python3"
      ],
      "execution_count": 0,
      "outputs": []
    },
    {
      "metadata": {
        "id": "4j4i6CrSdRbM",
        "colab_type": "code",
        "colab": {
          "base_uri": "https://localhost:8080/",
          "height": 119
        },
        "outputId": "e37828ea-b351-4416-f031-194d9a7d2d22"
      },
      "cell_type": "code",
      "source": [
        "!git clone --depth 1 https://github.com/neologd/mecab-ipadic-neologd.git"
      ],
      "execution_count": 20,
      "outputs": [
        {
          "output_type": "stream",
          "text": [
            "Cloning into 'mecab-ipadic-neologd'...\n",
            "remote: Enumerating objects: 75, done.\u001b[K\n",
            "remote: Counting objects: 100% (75/75), done.\u001b[K\n",
            "remote: Compressing objects: 100% (74/74), done.\u001b[K\n",
            "remote: Total 75 (delta 5), reused 55 (delta 0), pack-reused 0\u001b[K\n",
            "Unpacking objects: 100% (75/75), done.\n"
          ],
          "name": "stdout"
        }
      ]
    },
    {
      "metadata": {
        "id": "4nGnxWjZeIkU",
        "colab_type": "code",
        "colab": {
          "base_uri": "https://localhost:8080/",
          "height": 207
        },
        "outputId": "93b2995a-ecab-4448-b2d7-f79d04d57714"
      },
      "cell_type": "code",
      "source": [
        "!pip install bert-pytorch"
      ],
      "execution_count": 21,
      "outputs": [
        {
          "output_type": "stream",
          "text": [
            "Collecting bert-pytorch\n",
            "  Downloading https://files.pythonhosted.org/packages/4c/4d/328ca0670162d1a569854460cb1801e7e79f0e37238883cbd1d8c37cd6f4/bert_pytorch-0.0.1a4-py3-none-any.whl\n",
            "Requirement already satisfied: tqdm in /usr/local/lib/python3.6/dist-packages (from bert-pytorch) (4.28.1)\n",
            "Requirement already satisfied: numpy in /usr/local/lib/python3.6/dist-packages (from bert-pytorch) (1.14.6)\n",
            "Collecting torch>=0.4.0 (from bert-pytorch)\n",
            "\u001b[?25l  Downloading https://files.pythonhosted.org/packages/49/0e/e382bcf1a6ae8225f50b99cc26effa2d4cc6d66975ccf3fa9590efcbedce/torch-0.4.1-cp36-cp36m-manylinux1_x86_64.whl (519.5MB)\n",
            "\u001b[K    100% |████████████████████████████████| 519.5MB 16kB/s \n",
            "tcmalloc: large alloc 1073750016 bytes == 0x58ce2000 @  0x7f6cf76fe2a4 0x594e17 0x626104 0x51190a 0x4f5277 0x510c78 0x5119bd 0x4f5277 0x4f3338 0x510fb0 0x5119bd 0x4f5277 0x4f3338 0x510fb0 0x5119bd 0x4f5277 0x4f3338 0x510fb0 0x5119bd 0x4f6070 0x510c78 0x5119bd 0x4f5277 0x4f3338 0x510fb0 0x5119bd 0x4f6070 0x4f3338 0x510fb0 0x5119bd 0x4f6070\n",
            "\u001b[?25hInstalling collected packages: torch, bert-pytorch\n",
            "Successfully installed bert-pytorch-0.0.1a4 torch-0.4.1\n"
          ],
          "name": "stdout"
        }
      ]
    },
    {
      "metadata": {
        "id": "tuaCP2xQKX1h",
        "colab_type": "code",
        "colab": {
          "base_uri": "https://localhost:8080/",
          "height": 34
        },
        "outputId": "7a8315ac-7c59-46fe-e6f6-8fefd6c2b7d2"
      },
      "cell_type": "code",
      "source": [
        "# install MeCab\n",
        "!apt-get -q -y install sudo file mecab libmecab-dev mecab-ipadic-utf8 git curl python-mecab > /dev/null\n",
        "!git clone --depth 1 https://github.com/neologd/mecab-ipadic-neologd.git > /dev/null \n",
        "!echo yes | mecab-ipadic-neologd/bin/install-mecab-ipadic-neologd -n > /dev/null 2>&1\n",
        "!pip install mecab-python3 > /dev/null"
      ],
      "execution_count": 22,
      "outputs": [
        {
          "output_type": "stream",
          "text": [
            "fatal: destination path 'mecab-ipadic-neologd' already exists and is not an empty directory.\n"
          ],
          "name": "stdout"
        }
      ]
    },
    {
      "metadata": {
        "id": "amlJLWY2muVo",
        "colab_type": "code",
        "colab": {
          "base_uri": "https://localhost:8080/",
          "height": 34
        },
        "outputId": "c0a1577f-ce31-419b-a3f1-6b4029dadaf1"
      },
      "cell_type": "code",
      "source": [
        "!ls "
      ],
      "execution_count": 2,
      "outputs": [
        {
          "output_type": "stream",
          "text": [
            "sample_data\n"
          ],
          "name": "stdout"
        }
      ]
    },
    {
      "metadata": {
        "id": "Xz7MMWK8erH7",
        "colab_type": "code",
        "colab": {}
      },
      "cell_type": "code",
      "source": [
        "import linecache\n",
        "import random\n",
        "import MeCab"
      ],
      "execution_count": 0,
      "outputs": []
    },
    {
      "metadata": {
        "id": "gGF1HXm8eucE",
        "colab_type": "code",
        "colab": {}
      },
      "cell_type": "code",
      "source": [
        "random.seed(42)\n",
        "filename = 'tmp.txt'\n",
        "save_file = 'even_rows100M.txt'\n",
        "LIMIT_BYTE = 100000000 # 100Mbyte\n",
        "t = MeCab.Tagger('-Owakati') # Neologdを辞書に使っている人場合はそちらを使用するのがベターです\n",
        "#t = MeCab.Tagger('-d /usr/local/lib/mecab/dic/mecab-ipadic-neologd/ -Owakati')\n",
        "\n",
        "def get_byte_num(s):\n",
        "    return len(s.encode('utf-8'))"
      ],
      "execution_count": 0,
      "outputs": []
    },
    {
      "metadata": {
        "id": "xo7zaUz0ewqh",
        "colab_type": "code",
        "colab": {
          "base_uri": "https://localhost:8080/",
          "height": 34
        },
        "outputId": "0d7b0b00-2851-4acd-8fb4-c4c68c3910b1"
      },
      "cell_type": "code",
      "source": [
        "with open(save_file, 'w') as f:\n",
        "    count_byte = 0\n",
        "    with open(filename) as r:\n",
        "        for text in r:\n",
        "            #print('{} bytes'.format(count_byte))\n",
        "            text = t.parse(text).strip()\n",
        "            # 一文ごとに分割する\n",
        "            text = text.split('。')\n",
        "            # 空白要素は捨てる\n",
        "            text = [t.strip() for t in text if t]\n",
        "            # 一単元の文書が偶数個の文章から成るようにする(BERTのデータセットの都合上)\n",
        "            max_text_len = len(text) // 2\n",
        "            text = text[:max_text_len * 2]\n",
        "            text = '\\n'.join(text)\n",
        "            f.write(text)\n",
        "            count_byte += get_byte_num(text)\n",
        "            if count_byte >= LIMIT_BYTE:\n",
        "                break\n",
        "print('end')"
      ],
      "execution_count": 30,
      "outputs": [
        {
          "output_type": "stream",
          "text": [
            "end\n"
          ],
          "name": "stdout"
        }
      ]
    },
    {
      "metadata": {
        "id": "En6STETzeyqZ",
        "colab_type": "code",
        "colab": {
          "base_uri": "https://localhost:8080/",
          "height": 236
        },
        "outputId": "3847026b-1afa-434a-9155-7646a325ac20"
      },
      "cell_type": "code",
      "source": [
        "num_lines = sum(1 for line in open(save_file))\n",
        "print('Base file lines : ', num_lines)\n",
        "# 全体の80%をTraining dataに当てます\n",
        "train_lines = int(num_lines * 0.8)\n",
        "print('Train file lines : ', train_lines)"
      ],
      "execution_count": 1,
      "outputs": [
        {
          "output_type": "error",
          "ename": "NameError",
          "evalue": "ignored",
          "traceback": [
            "\u001b[0;31m---------------------------------------------------------------------------\u001b[0m",
            "\u001b[0;31mNameError\u001b[0m                                 Traceback (most recent call last)",
            "\u001b[0;32m<ipython-input-1-2987c10e243a>\u001b[0m in \u001b[0;36m<module>\u001b[0;34m()\u001b[0m\n\u001b[0;32m----> 1\u001b[0;31m \u001b[0mnum_lines\u001b[0m \u001b[0;34m=\u001b[0m \u001b[0msum\u001b[0m\u001b[0;34m(\u001b[0m\u001b[0;36m1\u001b[0m \u001b[0;32mfor\u001b[0m \u001b[0mline\u001b[0m \u001b[0;32min\u001b[0m \u001b[0mopen\u001b[0m\u001b[0;34m(\u001b[0m\u001b[0msave_file\u001b[0m\u001b[0;34m)\u001b[0m\u001b[0;34m)\u001b[0m\u001b[0;34m\u001b[0m\u001b[0m\n\u001b[0m\u001b[1;32m      2\u001b[0m \u001b[0mprint\u001b[0m\u001b[0;34m(\u001b[0m\u001b[0;34m'Base file lines : '\u001b[0m\u001b[0;34m,\u001b[0m \u001b[0mnum_lines\u001b[0m\u001b[0;34m)\u001b[0m\u001b[0;34m\u001b[0m\u001b[0m\n\u001b[1;32m      3\u001b[0m \u001b[0;31m# 全体の80%をTraining dataに当てます\u001b[0m\u001b[0;34m\u001b[0m\u001b[0;34m\u001b[0m\u001b[0m\n\u001b[1;32m      4\u001b[0m \u001b[0mtrain_lines\u001b[0m \u001b[0;34m=\u001b[0m \u001b[0mint\u001b[0m\u001b[0;34m(\u001b[0m\u001b[0mnum_lines\u001b[0m \u001b[0;34m*\u001b[0m \u001b[0;36m0.8\u001b[0m\u001b[0;34m)\u001b[0m\u001b[0;34m\u001b[0m\u001b[0m\n\u001b[1;32m      5\u001b[0m \u001b[0mprint\u001b[0m\u001b[0;34m(\u001b[0m\u001b[0;34m'Train file lines : '\u001b[0m\u001b[0;34m,\u001b[0m \u001b[0mtrain_lines\u001b[0m\u001b[0;34m)\u001b[0m\u001b[0;34m\u001b[0m\u001b[0m\n",
            "\u001b[0;31mNameError\u001b[0m: name 'save_file' is not defined"
          ]
        }
      ]
    },
    {
      "metadata": {
        "id": "DwB-VKXHe0-s",
        "colab_type": "code",
        "colab": {}
      },
      "cell_type": "code",
      "source": [
        "! mkdir -p data output"
      ],
      "execution_count": 0,
      "outputs": []
    },
    {
      "metadata": {
        "id": "hh6Ou3mSe3CX",
        "colab_type": "code",
        "colab": {}
      },
      "cell_type": "code",
      "source": [
        "out_file_name_temp = './data/splitted_%d.txt'\n",
        "\n",
        "split_index = 1\n",
        "line_index = 1\n",
        "out_file = open(out_file_name_temp % (split_index,), 'w')\n",
        "in_file = open(save_file)\n",
        "line = in_file.readline()\n",
        "while line:\n",
        "    if line_index > train_lines:\n",
        "        print('Starting file: %d' % split_index)\n",
        "        out_file.close()\n",
        "        split_index = split_index + 1\n",
        "        line_index = 1\n",
        "        out_file = open(out_file_name_temp % (split_index,), 'w')\n",
        "    out_file.write(line)\n",
        "    line_index = line_index + 1\n",
        "    line = in_file.readline()\n",
        "    \n",
        "out_file.close()\n",
        "in_file.close()"
      ],
      "execution_count": 0,
      "outputs": []
    },
    {
      "metadata": {
        "id": "qw54HyXGe5XZ",
        "colab_type": "code",
        "colab": {}
      },
      "cell_type": "code",
      "source": [
        "print('Train file lines : ', sum(1 for line in open('./data/splitted_1.txt')))\n",
        "print('Valid file lines : ', sum(1 for line in open('./data/splitted_2.txt')))"
      ],
      "execution_count": 0,
      "outputs": []
    },
    {
      "metadata": {
        "id": "yqrT7GOTe7tN",
        "colab_type": "text"
      },
      "cell_type": "markdown",
      "source": [
        "前処理ここまで"
      ]
    },
    {
      "metadata": {
        "id": "EwQfI8cDe9lL",
        "colab_type": "code",
        "colab": {}
      },
      "cell_type": "code",
      "source": [
        ""
      ],
      "execution_count": 0,
      "outputs": []
    }
  ]
}