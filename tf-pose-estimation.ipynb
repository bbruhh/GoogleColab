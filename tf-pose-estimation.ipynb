{
  "nbformat": 4,
  "nbformat_minor": 0,
  "metadata": {
    "colab": {
      "name": "こんにちはColaboratory",
      "version": "0.3.2",
      "provenance": [],
      "collapsed_sections": [],
      "toc_visible": true,
      "include_colab_link": true
    },
    "kernelspec": {
      "name": "python3",
      "display_name": "Python 3"
    },
    "accelerator": "GPU"
  },
  "cells": [
    {
      "cell_type": "markdown",
      "metadata": {
        "id": "view-in-github",
        "colab_type": "text"
      },
      "source": [
        "[View in Colaboratory](https://colab.research.google.com/github/june1st/GoogleColab/blob/master/tf-pose-estimation.ipynb)"
      ]
    },
    {
      "metadata": {
        "colab_type": "text",
        "id": "luKDxbnWyNGy"
      },
      "cell_type": "markdown",
      "source": [
        "<img height=\"60px\" src=\"/img/colab_favicon.ico\" align=\"left\" hspace=\"20px\" vspace=\"5px\">\n",
        "\n",
        "## See in the Dark のテスト\n",
        "\n",
        "Colaboratory は、完全にクラウドで実行される Jupyter ノートブック環境です。設定不要で、無料でご利用になれます。詳細については、[よくある質問](https://research.google.com/colaboratory/faq.html)をご覧ください。"
      ]
    },
    {
      "metadata": {
        "id": "IDnyWzmkZWmL",
        "colab_type": "code",
        "colab": {}
      },
      "cell_type": "code",
      "source": [
        "# gitからclone\n",
        "!git clone https://github.com/ildoonet/tf-pose-estimation.git"
      ],
      "execution_count": 0,
      "outputs": []
    }
  ]
}